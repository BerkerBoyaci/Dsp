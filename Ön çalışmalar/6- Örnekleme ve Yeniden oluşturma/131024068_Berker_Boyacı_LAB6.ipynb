{
 "cells": [
  {
   "cell_type": "markdown",
   "metadata": {},
   "source": [
    "# Ön Hazırlık LAB-6"
   ]
  },
  {
   "cell_type": "markdown",
   "metadata": {},
   "source": [
    "# Ad Soyad : Berker Boyacı\n",
    "# Öğrenci No : 131024068"
   ]
  },
  {
   "cell_type": "code",
   "execution_count": 1,
   "metadata": {},
   "outputs": [],
   "source": [
    "# import matplotlib.pyplot as plt \n",
    "# import numpy as np\n",
    "\n",
    "# f = 100 \n",
    "# T = 1 / f \n",
    "# t = np.arange( 0. , 2 * T , 0.0001 )\n",
    "\n",
    "# x = 5*np.cos( 200 * np.pi * t)\n",
    "\n",
    "\n",
    "# plt.figure()\n",
    "# plt.subplot(3,1,1)\n",
    "# plt.plot(t,x, 'black')\n",
    "# plt.xlabel(\"t (sn)\")\n",
    "# plt.ylabel(\"x(t)\")\n",
    "\n",
    "\n",
    "# Fs=1200\n",
    "# Ts=1/Fs\n",
    "\n",
    "# N=12\n",
    "# n=np.arange( 0. , 2*N ) \n",
    "# xn=5*np.cos( 200 * np.pi * n * Ts )\n",
    "\n",
    "# plt.subplot(3,1,2)\n",
    "# plt.stem( n , xn , use_line_collection='True')\n",
    "# plt.xlabel(\"n (örnek)\") \n",
    "# plt.ylabel(\"x[n]\")\n",
    "\n",
    "# M = 2 # Seyrek örnekleme katsayısı \n",
    "# print(xn)\n",
    "# xn_d = xn[::M] \n",
    "# n_d = np.arange(len(xn_d))\n",
    "\n",
    "\n",
    "# plt.subplot(3,1,3)\n",
    "# plt.stem(n_d, xn_d , use_line_collection='True') \n",
    "# plt.ylabel('$x_d[n]$')\n",
    "# plt.xlabel('n (örnek)') \n",
    "# plt.show()\n",
    "\n",
    "# Fs=600\n",
    "# Ts=1/Fs\n",
    "# N=6\n",
    "\n",
    "# n=np.arange( 0.,2*N ) \n",
    "# xn=5*np.cos(200*np.pi*n*Ts) \n",
    "# plt.figure()\n",
    "# plt.stem(n,xn , use_line_collection='True')\n",
    "# plt.xlabel(\"n (örnek)\") \n",
    "# plt.ylabel(\"$x_2[n]$\")\n",
    "# plt.show()\n",
    "\n",
    "\n",
    "# N = 80\n",
    "# nTs = np.arange(-10 , 10, 20/N)\n",
    "\n",
    "# xn = np.sinc(nTs)**2\n",
    "# n  = np.arange(-40, 40) \n",
    "\n",
    "# w  = np.arange(-np.pi, np.pi, 2*np.pi/N) \n",
    "# xw = np.fft.fftshift(np.fft.fft(xn,N)/N)\n",
    "\n",
    "\n",
    "# plt.figure()\n",
    "# plt.subplot(2,1,1)\n",
    "# plt.stem(n,xn, use_line_collection='True')\n",
    "\n",
    "# plt.xlabel(\"n (örnek)\") \n",
    "# plt.ylabel(\"x[n]\")\n",
    "\n",
    "# plt.subplot(2,1,2)\n",
    "# plt.stem(w/np.pi,abs(xw) , use_line_collection='True')\n",
    "# plt.xlabel(\"$\\omega$ / $\\pi$\") \n",
    "# plt.ylabel(\"$X(\\omega)$\")\n",
    "# plt.show()\n",
    "\n",
    "# M = 2\n",
    "\n",
    "# xn_d = xn[::M] \n",
    "# N_d = round(N/M)\n",
    "# n_d = np.arange(-N_d/2,N_d/2) \n",
    "\n",
    "# w_d = np.arange(-np.pi, np.pi, 2*np.pi/N_d)\n",
    "# xw_d = np.fft.fftshift(np.fft.fft(xn_d,N_d)/N_d)\n",
    "\n",
    "\n",
    "# plt.figure()\n",
    "\n",
    "# plt.subplot(2,1,1)\n",
    "# plt.title('M = 2 için')\n",
    "# plt.stem(n_d, xn_d , use_line_collection='True') \n",
    "# plt.ylabel('$x_d[n]$') \n",
    "# plt.xlabel('n (örnek)') \n",
    "# plt.show() \n",
    "\n",
    "# plt.subplot(2,1,2)\n",
    "# plt.stem(w_d/np.pi,abs(xw_d) , use_line_collection='True')\n",
    "# plt.xlabel('$\\omega$ / $\\pi$')\n",
    "# plt.ylabel('$X_d(\\omega)$')\n",
    "\n",
    "# M = 3\n",
    "\n",
    "# xn_d = xn[::M] \n",
    "# print(N/M)\n",
    "# print(round(N/M))\n",
    "# print(round(N/M-0.2))\n",
    "# N_d = round(N/M)\n",
    "# n_d = np.arange(-N_d/2,N_d/2) \n",
    "\n",
    "# w_d = np.arange(-np.pi, np.pi, 2*np.pi/N_d)\n",
    "# xw_d = np.fft.fftshift(np.fft.fft(xn_d,N_d)/N_d)\n",
    "\n",
    "\n",
    "# plt.figure()\n",
    "\n",
    "# plt.subplot(2,1,1)\n",
    "# plt.title('M = 3 için')\n",
    "# plt.stem(n_d, xn_d , use_line_collection='True') \n",
    "# plt.ylabel('$x_d[n]$') \n",
    "# plt.xlabel('n (örnek)') \n",
    "# plt.show() \n",
    "\n",
    "# plt.subplot(2,1,2)\n",
    "# plt.stem(w_d/np.pi,abs(xw_d) , use_line_collection='True')\n",
    "# plt.xlabel('$\\omega$ / $\\pi$')\n",
    "# plt.ylabel('$X_d(\\omega)$')\n",
    "\n",
    "# Fs=1200\n",
    "# Ts=1/Fs\n",
    "# N=12\n",
    "\n",
    "# n=np.arange(0,N) \n",
    "# xn=5*np.cos(200*np.pi*n*Ts)\n",
    "\n",
    "\n",
    "# plt.figure()\n",
    "# plt.subplot(3,1,1)\n",
    "# plt.stem(n,xn , use_line_collection='True')\n",
    "# plt.xlabel(\"n (örnek)\")\n",
    "# plt.ylabel(\"x[n]\")\n",
    "\n",
    "\n",
    "# # Sık örnekleme işlemi ->\n",
    "# L = 2 # Sık örnekleme Katsayısı\n",
    "# Nn_u = N*L\n",
    "# xn_u = np.zeros(Nn_u)\n",
    "\n",
    "# xn_u[::L] = xn\n",
    "# n_u = np.arange(0, Nn_u)\n",
    "\n",
    "# plt.subplot(3,1,2)\n",
    "# plt.stem(n_u, xn_u , use_line_collection='True')\n",
    "# plt.ylabel('$x_u[n]$')\n",
    "# plt.xlabel('n (örnek)')\n",
    "\n",
    "# # interpolasyon işlemi ->\n",
    "# hn = np.array([0,1/2,1,1/2,0]) \n",
    "# xn_i = np.convolve(xn_u,hn,'full') \n",
    "# n_i = np.arange(len(xn_i))\n",
    "\n",
    "# plt.subplot(3,1,3)\n",
    "# plt.stem(n_i,xn_i , use_line_collection='True')\n",
    "# plt.xlabel(\"n (örnek)\")\n",
    "# plt.ylabel(\"$x_i[n]$\")\n",
    "# plt.show()\n",
    "\n",
    "# N = 40\n",
    "# nTs = np.arange(-10,10,20/N)\n",
    "\n",
    "# xn = np.sinc(nTs)**2 \n",
    "# n = np.arange(-20, 20) \n",
    "\n",
    "# w = np.arange(-np.pi, np.pi, 2*np.pi/N) \n",
    "# xw = np.fft.fftshift(np.fft.fft(xn,N)/N)\n",
    "\n",
    "# plt.figure()\n",
    "# plt.subplot(2,1,1)\n",
    "# plt.stem(n,xn ,use_line_collection='True')\n",
    "# plt.xlabel(\"n (örnek)\")\n",
    "# plt.ylabel(\"$x[n]$\")\n",
    "\n",
    "# plt.subplot(2,1,2)\n",
    "# plt.stem(w/np.pi,abs(xw) , use_line_collection='True')\n",
    "# plt.xlabel(\"$\\omega$ / $\\pi$\") \n",
    "# plt.ylabel(\"$X(\\omega)$ (Genlik)\")\n",
    "\n",
    "\n",
    "# # Sık örnekleme (up sampling) oranı\n",
    "# L = 2\n",
    "\n",
    "# N_u = N*L\n",
    "# n_u = np.arange(-N_u/2, N_u/2) \n",
    "\n",
    "# xn_u = np.zeros(N_u)\n",
    "# xn_u[::L] = xn\n",
    "\n",
    "\n",
    "# w_u = np.arange(-(np.pi), (np.pi), 2*(np.pi)/N_u)\n",
    "# xw_u = np.fft.fftshift(np.fft.fft(xn_u, N_u)/N_u)\n",
    "\n",
    "# plt.figure()\n",
    "# plt.subplot(2,1,1)\n",
    "# plt.stem(n_u,xn_u ,use_line_collection='True')\n",
    "# plt.xlabel(\"n (örnek)\") \n",
    "# plt.ylabel(\"$x_u[n]$\")\n",
    "\n",
    "# plt.subplot(2,1,2)\n",
    "# plt.stem(w_u/np.pi,abs(xw_u) , use_line_collection='True')\n",
    "# plt.xlabel(\"$\\omega$ / $\\pi$\") \n",
    "# plt.ylabel(\"$X_u(\\omega)$ (Genlik)\")\n",
    "\n",
    "\n",
    "# hw = np.zeros(N_u)\n",
    "# w_i = np.arange(-(np.pi), (np.pi), 2*(np.pi)/N_u) \n",
    "# indis = np.where(abs(w_i)<=np.pi/2)\n",
    "\n",
    "# hw[indis] = L\n",
    "\n",
    "# xw_i = xw_u * hw\n",
    "# N_i =len(xw_i)\n",
    "\n",
    "\n",
    "# plt.figure()\n",
    "# plt.subplot(2,1,1)\n",
    "# plt.stem(w_i/np.pi, abs(hw) , use_line_collection='True')\n",
    "# plt.xlabel(\"$\\omega$ / $\\pi$\") \n",
    "# plt.ylabel(\"$H(\\omega)$\")\n",
    "\n",
    "# plt.subplot(2,1,2)\n",
    "# plt.stem(w_i/np.pi,abs(xw_i), use_line_collection='True')\n",
    "# plt.xlabel(\"$\\omega$ / $\\pi$\") \n",
    "# plt.ylabel(\"$X_i(\\omega) (Genlik)$\")\n",
    "\n",
    "# xn_i = np.fft.ifft(np.fft.ifftshift(xw_i), N_i)*N_i\n",
    "# ni =np.arange(-N_i/2, N_i/2)\n",
    "\n",
    "# plt.figure()\n",
    "# plt.stem(ni, abs(xn_i) , use_line_collection='True')\n",
    "# plt.xlabel(\"n (örnek)\")\n",
    "# plt.ylabel(\"$x_i[n]$\")\n",
    "# plt.show()\n",
    "\n",
    "\n",
    "\n",
    "# # "
   ]
  },
  {
   "cell_type": "code",
   "execution_count": 2,
   "metadata": {},
   "outputs": [],
   "source": [
    "import numpy as np\n",
    "import matplotlib.pyplot as plt\n",
    "%matplotlib notebook"
   ]
  },
  {
   "cell_type": "markdown",
   "metadata": {},
   "source": [
    "# Soru 1-)"
   ]
  },
  {
   "cell_type": "markdown",
   "metadata": {},
   "source": [
    "## Soru 1-A)"
   ]
  },
  {
   "cell_type": "markdown",
   "metadata": {},
   "source": [
    "\n",
    "Örnekleme frekansı fs olan işaret sık ve seyrek örnekleme uygulandıktan sonra örnekleme frekansı   fs * M / L olur.\n",
    "40 kHz olan x[n] işaretinin örnekleme frekansının 50 kHz olması için L = 5 , M = 4 seçilirse çıkış işaretinini örnekleme frekansı 50kHz olur.\n"
   ]
  },
  {
   "cell_type": "markdown",
   "metadata": {},
   "source": [
    "## Soru 1-B)"
   ]
  },
  {
   "cell_type": "code",
   "execution_count": 3,
   "metadata": {},
   "outputs": [],
   "source": [
    "def getFFT(xn , N):\n",
    "    \"\"\"\n",
    "    verilen işaretin fourierini alan fonksiyon.\n",
    "    Giriş Parametreleri : \n",
    "    xn : Verilen array\n",
    "    N  : sample\n",
    "    \n",
    "    \n",
    "    \"\"\"\n",
    "    w = np.arange(-np.pi, np.pi, 2*np.pi/N) \n",
    "    xw = np.fft.fftshift(np.fft.fft(xn,N)/N)\n",
    "    \n",
    "    return (xw , w)"
   ]
  },
  {
   "cell_type": "markdown",
   "metadata": {},
   "source": [
    "### Örnekleme işlemleri zaman domeininde incelenirse ->"
   ]
  },
  {
   "cell_type": "code",
   "execution_count": 4,
   "metadata": {},
   "outputs": [
    {
     "name": "stdout",
     "output_type": "stream",
     "text": [
      "20\n"
     ]
    },
    {
     "data": {
      "text/plain": [
       "Text(0.5, 1.0, 'Zaman domeininde x[n]')"
      ]
     },
     "execution_count": 4,
     "metadata": {},
     "output_type": "execute_result"
    },
    {
     "data": {
      "image/png": "[encoded data removed]",
      "text/plain": [
       "<Figure size 432x288 with 1 Axes>"
      ]
     },
     "metadata": {
      "needs_background": "light"
     },
     "output_type": "display_data"
    }
   ],
   "source": [
    "Fs = 40000\n",
    "Ts = 1 / Fs\n",
    "N = 20\n",
    "\n",
    "n = np.arange( N ) \n",
    "xn = np.cos( np.pi * n / 5) \n",
    "\n",
    "print(len(xn))\n",
    "plt.figure()\n",
    "plt.stem(n, xn , use_line_collection='True')\n",
    "plt.ylabel('$x[n]$')\n",
    "plt.xlabel('n (örnek)')\n",
    "plt.title('Zaman domeininde x[n]')"
   ]
  },
  {
   "cell_type": "code",
   "execution_count": 5,
   "metadata": {},
   "outputs": [
    {
     "name": "stdout",
     "output_type": "stream",
     "text": [
      "100\n"
     ]
    },
    {
     "data": {
      "text/plain": [
       "Text(0.5, 1.0, 'Zaman domeininde sık örnekleme sonrası x[n]')"
      ]
     },
     "execution_count": 5,
     "metadata": {},
     "output_type": "execute_result"
    },
    {
     "data": {
      "image/png": "[encoded data removed]",
      "text/plain": [
       "<Figure size 432x288 with 1 Axes>"
      ]
     },
     "metadata": {
      "needs_background": "light"
     },
     "output_type": "display_data"
    }
   ],
   "source": [
    "# sık örnekleme işlemi ->\n",
    "L = 5 \n",
    "\n",
    "# xu[n] ->\n",
    "N_u = N * L\n",
    "xn_u = np.zeros(N_u)\n",
    "\n",
    "\n",
    "xn_u[::L] = xn\n",
    "n_u = np.arange(0, N_u)\n",
    "print(N_u)\n",
    "\n",
    "\n",
    "plt.figure()\n",
    "plt.stem(n_u, xn_u , use_line_collection='True')\n",
    "plt.ylabel('$x_u[n]$')\n",
    "plt.xlabel('n (örnek)')\n",
    "plt.title('Zaman domeininde sık örnekleme sonrası x[n]')"
   ]
  },
  {
   "cell_type": "markdown",
   "metadata": {},
   "source": [
    "###### 5 ile sık örnekleme sonrası x[n]'in her örneğinin arasına L-1 = 4 kadar sıfır eklenir. 5 ile örneklendikten sonra işaret 100 sample olur."
   ]
  },
  {
   "cell_type": "code",
   "execution_count": 6,
   "metadata": {},
   "outputs": [
    {
     "data": {
      "text/plain": [
       "Text(0.5, 1.0, 'zaman domeininde interpolasyon işlemi sonrası x[n]')"
      ]
     },
     "execution_count": 6,
     "metadata": {},
     "output_type": "execute_result"
    },
    {
     "data": {
      "image/png": "[encoded data removed]",
      "text/plain": [
       "<Figure size 432x288 with 1 Axes>"
      ]
     },
     "metadata": {
      "needs_background": "light"
     },
     "output_type": "display_data"
    }
   ],
   "source": [
    "# xi[] ->\n",
    "h_lin = np.array([0,1/5,2/5,3/5,4/5,1,4/5,3/5,2/5,1/5,0]) \n",
    "xn_i = np.convolve( xn_u , h_lin , 'same')\n",
    "\n",
    "n_i = np.arange(len(xn_i))\n",
    "N_i = len(n_i)\n",
    "                \n",
    "plt.figure()\n",
    "plt.stem( n_i , xn_i , use_line_collection='True')\n",
    "plt.xlabel(\"n (örnek)\")\n",
    "plt.ylabel(\"$x_i[n]$\")\n",
    "plt.title('zaman domeininde interpolasyon işlemi sonrası x[n]')"
   ]
  },
  {
   "cell_type": "markdown",
   "metadata": {},
   "source": [
    "###### interpolasyon için sık örnekleme sonrası elde edilen işaret ile dürtü cevabının konvolüsyonu alınır. dürtü cevabını : <br><br> |n| =< L için h[n] = ( 1 - |n| / L )  <br> <br>olarak bulunur.\n",
    "\n",
    "######  L = 5 için h[n] = (0,1/5,2/5,3/5,4/5,1,4/5,3/5,2/5,1/5,0) bulunur.\n",
    "###### İnterpolasyon işlemi için zaman domeininde konvolüsyon işlemi yapılmıştır. Bu işlemden sonra sık örnekleme sonrası elde edilen sıfırlar yerine daha doğru değerler atanmıştır.\n"
   ]
  },
  {
   "cell_type": "code",
   "execution_count": 7,
   "metadata": {},
   "outputs": [
    {
     "name": "stdout",
     "output_type": "stream",
     "text": [
      "25\n"
     ]
    },
    {
     "data": {
      "image/png": "[encoded data removed]",
      "text/plain": [
       "<Figure size 432x288 with 1 Axes>"
      ]
     },
     "metadata": {
      "needs_background": "light"
     },
     "output_type": "display_data"
    }
   ],
   "source": [
    "# xd_n[] ->\n",
    "# seyrek örnekleme ->\n",
    "\n",
    "M = 4\n",
    "\n",
    "\n",
    "xn_d = xn_i[::M]\n",
    "n_d = np.arange(len(xn_d))\n",
    "print(len(xn_d))\n",
    "\n",
    "plt.figure()\n",
    "plt.stem(n_d, xn_d , use_line_collection='True') \n",
    "plt.ylabel('$x_d[n]$')\n",
    "plt.xlabel('n (örnek)') \n",
    "plt.title('Zaman domeininde seyrek örnekleme sonrası x[n]')\n",
    "plt.show()"
   ]
  },
  {
   "cell_type": "markdown",
   "metadata": {},
   "source": [
    "###### interpolasyon işlemi sonrası x[n] işaretinin her 4 katı örneğinin alınıp diğerlerinin atılmasıyla 25 örneklik işaret elde edilir."
   ]
  },
  {
   "cell_type": "markdown",
   "metadata": {},
   "source": [
    "#### Örnekleme işlemleri frekans domeininde incelenirse ->"
   ]
  },
  {
   "cell_type": "code",
   "execution_count": 8,
   "metadata": {},
   "outputs": [
    {
     "name": "stdout",
     "output_type": "stream",
     "text": [
      "20\n"
     ]
    },
    {
     "data": {
      "text/plain": [
       "Text(0.5, 1.0, 'frekans domeininde $X_u(\\\\omega)$ (Genlik)')"
      ]
     },
     "execution_count": 8,
     "metadata": {},
     "output_type": "execute_result"
    },
    {
     "data": {
      "image/png": "[encoded data removed]",
      "text/plain": [
       "<Figure size 432x288 with 1 Axes>"
      ]
     },
     "metadata": {
      "needs_background": "light"
     },
     "output_type": "display_data"
    }
   ],
   "source": [
    "xw , w = getFFT(xn , N)\n",
    "\n",
    "print(len(w))\n",
    "plt.figure()\n",
    "plt.stem( w/np.pi , abs(xw) , use_line_collection='True')\n",
    "plt.xlabel(\"$\\omega$ / $\\pi$\") \n",
    "plt.ylabel(\"$X_u(\\omega)$ (Genlik)\")\n",
    "plt.title('frekans domeininde $X_u(\\omega)$ (Genlik)')"
   ]
  },
  {
   "cell_type": "markdown",
   "metadata": {},
   "source": [
    "###### x[n] = cos ( pi * n / 5 ) işaretinin grafiği için 0.5 genlikli spektrum elde edilir. Frekans aralığının -pi - pi aralığında gözlenmektedir."
   ]
  },
  {
   "cell_type": "markdown",
   "metadata": {},
   "source": [
    "###### 5 ile sıkı örnekleme işlemi sonrasıfrekans aralığı +-2pi olduğundan dolayı +-pi aralğında 5 kez tekrarladığı görülür."
   ]
  },
  {
   "cell_type": "code",
   "execution_count": 9,
   "metadata": {},
   "outputs": [
    {
     "name": "stdout",
     "output_type": "stream",
     "text": [
      "100\n"
     ]
    },
    {
     "data": {
      "text/plain": [
       "Text(0.5, 1.0, 'frekans domeininde sık örnekleme sonrası $X_u(\\\\omega)$ (Genlik)')"
      ]
     },
     "execution_count": 9,
     "metadata": {},
     "output_type": "execute_result"
    },
    {
     "data": {
      "image/png": "[encoded data removed]",
      "text/plain": [
       "<Figure size 432x288 with 1 Axes>"
      ]
     },
     "metadata": {
      "needs_background": "light"
     },
     "output_type": "display_data"
    }
   ],
   "source": [
    "xw_u , w_u = getFFT(xn_u , N_u)\n",
    "print(len(xw_u))\n",
    "\n",
    "plt.figure()\n",
    "plt.stem(w_u/np.pi,abs(xw_u) , use_line_collection='True')\n",
    "plt.xlabel(\"$\\omega$ / $\\pi$\") \n",
    "plt.ylabel(\"$X_u(\\omega)$ (Genlik)\")\n",
    "plt.title('frekans domeininde sık örnekleme sonrası $X_u(\\omega)$ (Genlik)')"
   ]
  },
  {
   "cell_type": "markdown",
   "metadata": {},
   "source": [
    "#### interpolasyon işlemi ->"
   ]
  },
  {
   "cell_type": "markdown",
   "metadata": {},
   "source": [
    "###### zaman domeininde İnterpolasyon işlemi sonrası elde edilen işaret sinüzoidal bir işarete benzediği için frekans domeininde incelediğimizde 2 dürtü işareti görürüz. "
   ]
  },
  {
   "cell_type": "code",
   "execution_count": 10,
   "metadata": {},
   "outputs": [
    {
     "name": "stdout",
     "output_type": "stream",
     "text": [
      "100\n"
     ]
    },
    {
     "data": {
      "text/plain": [
       "Text(0.5, 1.0, ' frekans domeininde interpolasyon sonrası $X_u(\\\\omega)$ (Genlik)')"
      ]
     },
     "execution_count": 10,
     "metadata": {},
     "output_type": "execute_result"
    },
    {
     "data": {
      "image/png": "[encoded data removed]",
      "text/plain": [
       "<Figure size 432x288 with 1 Axes>"
      ]
     },
     "metadata": {
      "needs_background": "light"
     },
     "output_type": "display_data"
    }
   ],
   "source": [
    "xw_i , w_i = getFFT(xn_i , N_i)\n",
    "print(len(xw_i))\n",
    "\n",
    "plt.figure()\n",
    "plt.stem( w_i/np.pi , abs(xw_i) , use_line_collection='True')\n",
    "plt.xlabel('$\\omega$ / $\\pi$')\n",
    "plt.ylabel('$X_d(\\omega)$')\n",
    "plt.title(' frekans domeininde interpolasyon sonrası $X_u(\\omega)$ (Genlik)')"
   ]
  },
  {
   "cell_type": "markdown",
   "metadata": {},
   "source": [
    "###### seyrek örnekleme sonrası her 5 örnekten biri tutulur ve diğer 4 örnek atılır. Bu işlem sonrasında elde edilen işaret  sinüzoidal bir işarete benzediği için frekans domeininde incelediğimizde 2 dürtü işareti görürüz.\n",
    "\n",
    "###### seyrek örnekleme sonrası 0.2pi olan frekans aralığı 4 ile seyrek örneklendikten sonra 0.8pi olur. Bundan dolayı +-pi aralığında bir kez görürüz"
   ]
  },
  {
   "cell_type": "code",
   "execution_count": 11,
   "metadata": {},
   "outputs": [
    {
     "name": "stdout",
     "output_type": "stream",
     "text": [
      "25\n"
     ]
    },
    {
     "data": {
      "text/plain": [
       "Text(0.5, 1.0, ' frekans domeininde seyrek örnekleme sonrası $X_u(\\\\omega)$ (Genlik)')"
      ]
     },
     "execution_count": 11,
     "metadata": {},
     "output_type": "execute_result"
    },
    {
     "data": {
      "image/png": "[encoded data removed]",
      "text/plain": [
       "<Figure size 432x288 with 1 Axes>"
      ]
     },
     "metadata": {
      "needs_background": "light"
     },
     "output_type": "display_data"
    }
   ],
   "source": [
    "N_d = round(N_i/M)\n",
    "n_d = np.arange(-N_d/2,N_d/2) \n",
    "\n",
    "xw_d , w_d = getFFT( xn_d , N_d)\n",
    "print(len(xw_d))\n",
    "\n",
    "plt.figure()\n",
    "plt.stem(w_d/np.pi,abs(xw_d) , use_line_collection='True')\n",
    "plt.xlabel('$\\omega$ / $\\pi$')\n",
    "plt.ylabel('$X_d(\\omega)$')\n",
    "plt.title(' frekans domeininde seyrek örnekleme sonrası $X_u(\\omega)$ (Genlik)')\n"
   ]
  },
  {
   "cell_type": "markdown",
   "metadata": {},
   "source": [
    "## Soru 1-C)"
   ]
  },
  {
   "cell_type": "markdown",
   "metadata": {},
   "source": [
    "###### seyrek örnekleme için örtüşme önleyici filtre kullanılmayacağından alçak geçiren filtrenin kazancı L , kesim frekansı pi/L olur. \n",
    "\n",
    "###### Sistem için L = 5 , M = 4 seçildiğinden alçak geçiren filtrenin kazancı 5 , kesim frekansı pi/5 olur."
   ]
  },
  {
   "cell_type": "markdown",
   "metadata": {},
   "source": [
    "#### x[n] işareti ve spektrumunun çizdirilmesi için ->"
   ]
  },
  {
   "cell_type": "code",
   "execution_count": 12,
   "metadata": {},
   "outputs": [
    {
     "data": {
      "text/plain": [
       "Text(0.5, 1.0, 'Zaman domeininde x[n]')"
      ]
     },
     "execution_count": 12,
     "metadata": {},
     "output_type": "execute_result"
    },
    {
     "data": {
      "image/png": "[encoded data removed]",
      "text/plain": [
       "<Figure size 432x288 with 1 Axes>"
      ]
     },
     "metadata": {
      "needs_background": "light"
     },
     "output_type": "display_data"
    }
   ],
   "source": [
    "Fs = 40000\n",
    "Ts = 1 / Fs\n",
    "N = 20\n",
    "\n",
    "n = np.arange( 0 , N ) \n",
    "xn = np.cos( np.pi * n / 5) \n",
    "\n",
    "\n",
    "plt.figure()\n",
    "plt.stem(n, xn , use_line_collection='True')\n",
    "plt.ylabel('$x[n]$')\n",
    "plt.xlabel('n (örnek)')\n",
    "plt.title('Zaman domeininde x[n]')\n"
   ]
  },
  {
   "cell_type": "markdown",
   "metadata": {},
   "source": [
    " #### Sık örnekleme yapıldıktan sonra xu[n] işaretinin ve spektrumunun çizdirilmesi için ->\n",
    " ###### 5 ile sık örnekleme sonrası x[n]'in her örneğinin arasına L-1 = 4 kadar sıfır eklenir. 5 ile örneklendikten sonra işaret 100 sample olur."
   ]
  },
  {
   "cell_type": "code",
   "execution_count": 13,
   "metadata": {},
   "outputs": [
    {
     "data": {
      "text/plain": [
       "Text(0.5, 1.0, 'Zaman domeininde sıkı örnekleme sonrası x[n]')"
      ]
     },
     "execution_count": 13,
     "metadata": {},
     "output_type": "execute_result"
    },
    {
     "data": {
      "image/png": "[encoded data removed]",
      "text/plain": [
       "<Figure size 432x288 with 1 Axes>"
      ]
     },
     "metadata": {
      "needs_background": "light"
     },
     "output_type": "display_data"
    }
   ],
   "source": [
    "# sık örnekleme işlemi ->\n",
    "L = 5 \n",
    "\n",
    "# xu[n] ->\n",
    "N_u = N * L\n",
    "xn_u = np.zeros(N_u)\n",
    "\n",
    "xn_u[::L] = xn\n",
    "n_u = np.arange(0, N_u)\n",
    "\n",
    "\n",
    "plt.figure()\n",
    "plt.stem(n_u, xn_u , use_line_collection='True')\n",
    "plt.ylabel('$x_u[n]$')\n",
    "plt.xlabel('n (örnek)')\n",
    "plt.title('Zaman domeininde sıkı örnekleme sonrası x[n]')\n",
    "\n",
    "\n"
   ]
  },
  {
   "cell_type": "markdown",
   "metadata": {},
   "source": [
    "###### frekans domeininde alçak geçiren filtre ile sık örneklenmiş işaretin spektrumunun çarpımı sonucu interpolasyon işlemi yapılır. B şıkkında zaman domeininde dürtü cevabı ve sık örneklenen işaretin konvolüsyon işaretine göre daha sinüzoidal bir işaret elde edilmiştir. B şıkkında elde edilen işaret dürtü cevabından dolayı daha keskindir. <br> frekans domeininde alçak geçiren filtreden geçirmek zaman domeininde sinc ile konvolüsyon yapmaya karşılık gelir ama sinc zaman domeininde +- sonsuz arasında değer aldığı için pratikte lineer interpolasyon uygulanır."
   ]
  },
  {
   "cell_type": "code",
   "execution_count": 28,
   "metadata": {},
   "outputs": [
    {
     "data": {
      "image/png": "[encoded data removed]",
      "text/plain": [
       "<Figure size 432x288 with 1 Axes>"
      ]
     },
     "metadata": {
      "needs_background": "light"
     },
     "output_type": "display_data"
    }
   ],
   "source": [
    "\n",
    "# Alçak geçiren filtre değerlerinin hazırlanması ->\n",
    "hw    = np.zeros(N_u)\n",
    "w_i   = np.arange(-(np.pi), (np.pi), 2*(np.pi)/N_u) \n",
    "indis = np.where(abs(w_i) <= np.pi/L)\n",
    "\n",
    "hw[indis] = L\n",
    "\n",
    "# frekans domeininde çarpılacak x'in fft'si ->\n",
    "xw_u , w_u = getFFT(xn_u , N_u)\n",
    "\n",
    "\n",
    "# frekans domeininde işaretin alçak geçiren filtre ile çarpılması -> \n",
    "xw_agf = xw_u * hw\n",
    "N_agf =len(xw_agf)\n",
    "n_agf = np.arange(N_agf)\n",
    "\n",
    "\n",
    "xn_i2 = np.fft.ifft(np.fft.ifftshift(xw_agf), N_u) * N_u\n",
    "n_i2  = np.arange(len(xn_i2))\n",
    "\n",
    "plt.figure()\n",
    "plt.stem(n_i2, xn_i2 , use_line_collection='True')\n",
    "plt.xlabel(\"n (örnek)\")\n",
    "plt.ylabel(\"$x_i[n]$\")\n",
    "plt.title('Zaman domeininde interpolasyon sonrası x[n]')\n",
    "plt.show()"
   ]
  },
  {
   "cell_type": "markdown",
   "metadata": {},
   "source": [
    "#### Alçak geçiren filtreden sonra seyrek örnekleme yapılması için ->"
   ]
  },
  {
   "cell_type": "markdown",
   "metadata": {},
   "source": [
    "###### alçak geçiren filtre ile frekans domeininde çarpma işlemi sonrası elde edilen x[n] işaretinin her 4 katı örneğinin alınıp diğerlerinin atılmasıyla 25 örneklik işaret elde edilir."
   ]
  },
  {
   "cell_type": "code",
   "execution_count": 29,
   "metadata": {},
   "outputs": [
    {
     "data": {
      "image/png": "[encoded data removed]",
      "text/plain": [
       "<Figure size 432x288 with 1 Axes>"
      ]
     },
     "metadata": {
      "needs_background": "light"
     },
     "output_type": "display_data"
    }
   ],
   "source": [
    "# xd_n[] ->\n",
    "# seyrek örnekleme ->\n",
    "\n",
    "M = 4\n",
    "\n",
    "xn_d = xn_i2[::M]\n",
    "n_d = np.arange(len(xn_d))\n",
    "\n",
    "\n",
    "plt.figure()\n",
    "plt.stem(n_d, xn_d , use_line_collection='True') \n",
    "plt.ylabel('$x_d[n]$')\n",
    "plt.xlabel('n (örnek)') \n",
    "plt.title('Zaman domeininde seyrek örnekleme sonrası x[n]')\n",
    "plt.show()\n",
    "\n",
    "\n",
    "\n",
    "N_d = round(N_i/M)\n",
    "n_d = np.arange(-N_d/2,N_d/2) \n",
    "\n"
   ]
  },
  {
   "cell_type": "markdown",
   "metadata": {},
   "source": [
    "#### Örnekleme işlemlerinin frekans domeininde incelenmesi ->"
   ]
  },
  {
   "cell_type": "markdown",
   "metadata": {},
   "source": [
    "###### x[n] işaretinin fourieri alındıktan sonra genlik cevabı ->"
   ]
  },
  {
   "cell_type": "markdown",
   "metadata": {},
   "source": [
    "###### x[n] = cos ( pi * n / 5 ) işaretinin grafiği için 0.5 genlikli spektrum elde edilir. Frekans aralığının -pi - pi aralığında gözlenmektedir."
   ]
  },
  {
   "cell_type": "code",
   "execution_count": 30,
   "metadata": {},
   "outputs": [
    {
     "data": {
      "text/plain": [
       "Text(0.5, 1.0, 'frekans domeininde $X_u(\\\\omega)$ (Genlik)')"
      ]
     },
     "execution_count": 30,
     "metadata": {},
     "output_type": "execute_result"
    },
    {
     "data": {
      "image/png": "[encoded data removed]",
      "text/plain": [
       "<Figure size 432x288 with 1 Axes>"
      ]
     },
     "metadata": {
      "needs_background": "light"
     },
     "output_type": "display_data"
    }
   ],
   "source": [
    "xw , w = getFFT(xn , N)\n",
    "\n",
    "\n",
    "plt.figure()\n",
    "plt.stem( w/np.pi , abs(xw) , use_line_collection='True')\n",
    "plt.xlabel(\"$\\omega$ / $\\pi$\") \n",
    "plt.ylabel(\"$X_u(\\omega)$ (Genlik)\")\n",
    "plt.title('frekans domeininde $X_u(\\omega)$ (Genlik)')"
   ]
  },
  {
   "cell_type": "markdown",
   "metadata": {},
   "source": [
    "#### Sık örnekleme yapıldıktan sonra genlik cevabı ->"
   ]
  },
  {
   "cell_type": "markdown",
   "metadata": {},
   "source": [
    "###### 5 ile sıkı örnekleme işlemi sonrası frekans aralığı 0.2pi olduğundan dolayı +-pi aralğında 5 kez tekrarladığı görülür."
   ]
  },
  {
   "cell_type": "code",
   "execution_count": 31,
   "metadata": {},
   "outputs": [
    {
     "data": {
      "text/plain": [
       "Text(0.5, 1.0, 'frekans domeininde sık örnekleme somrası $X_u(\\\\omega)$ (Genlik)')"
      ]
     },
     "execution_count": 31,
     "metadata": {},
     "output_type": "execute_result"
    },
    {
     "data": {
      "image/png": "[encoded data removed]",
      "text/plain": [
       "<Figure size 432x288 with 1 Axes>"
      ]
     },
     "metadata": {
      "needs_background": "light"
     },
     "output_type": "display_data"
    }
   ],
   "source": [
    "xw_u , w_u = getFFT(xn_u , N_u)\n",
    "\n",
    "\n",
    "plt.figure()\n",
    "plt.stem(w_u/np.pi,abs(xw_u) , use_line_collection='True')\n",
    "plt.xlabel(\"$\\omega$ / $\\pi$\") \n",
    "plt.ylabel(\"$X_u(\\omega)$ (Genlik)\")\n",
    "plt.title(\"frekans domeininde sık örnekleme somrası $X_u(\\omega)$ (Genlik)\")"
   ]
  },
  {
   "cell_type": "markdown",
   "metadata": {},
   "source": [
    "### sık örneklenen işaretin alçak geçiren filtreden geçirilmesi ->"
   ]
  },
  {
   "cell_type": "markdown",
   "metadata": {},
   "source": [
    "###### Frekans domeininde sık örneklenen işaret alçak geçiren filtreden geçirildikten sonra kesim frekansından dolayı pi/5'in altındaki dürtüler kalır. diğer dürtü işaretleri sıfır ile çarpılır. Bu işlem sonrası sinüzoidal bir işaretin fourier spektrumuna benzer bir grafik çıkar."
   ]
  },
  {
   "cell_type": "code",
   "execution_count": 37,
   "metadata": {},
   "outputs": [
    {
     "data": {
      "text/plain": [
       "Text(0.5, 1.0, 'AGF ile çarpımdan sonra $X_i(\\\\omega)$ (Genlik)')"
      ]
     },
     "execution_count": 37,
     "metadata": {},
     "output_type": "execute_result"
    },
    {
     "data": {
      "image/png": "[encoded data removed]",
      "text/plain": [
       "<Figure size 432x288 with 1 Axes>"
      ]
     },
     "metadata": {
      "needs_background": "light"
     },
     "output_type": "display_data"
    }
   ],
   "source": [
    "plt.figure()\n",
    "plt.stem(w_u/np.pi,abs(xw_agf) , use_line_collection='True')\n",
    "plt.xlabel(\"$\\omega$ / $\\pi$\") \n",
    "plt.ylabel(\"$X_i(\\omega)$ (Genlik)\")\n",
    "plt.title(\"AGF ile çarpımdan sonra $X_i(\\omega)$ (Genlik)\")"
   ]
  },
  {
   "cell_type": "markdown",
   "metadata": {},
   "source": [
    "### seyrek örnekleme işleminin frekans domeinindeki değişimi->"
   ]
  },
  {
   "cell_type": "markdown",
   "metadata": {},
   "source": [
    "###### seyrek örnekleme sonrası her 5 örnekten biri tutulur ve diğer 4 örnek atılır. Bu işlem sonrasında elde edilen işaret  sinüzoidal bir işarete benzediği için frekans domeininde incelediğimizde 2 dürtü işareti görürüz.\n",
    "\n",
    "###### seyrek örnekleme sonrası 0.2pi olan frekans aralığı 4 ile seyrel örneklendikten sonra 0.8pi olur. Bundan dolayı +-pi aralığında bir kez görürüz Bu işlem sonrası işaretin frekans aralığı arttığı görülür."
   ]
  },
  {
   "cell_type": "code",
   "execution_count": 38,
   "metadata": {},
   "outputs": [
    {
     "data": {
      "text/plain": [
       "Text(0.5, 1.0, 'Seyrek örnekleme sonrası $X_d(\\\\omega)$ (Genlik)')"
      ]
     },
     "execution_count": 38,
     "metadata": {},
     "output_type": "execute_result"
    },
    {
     "data": {
      "image/png": "[encoded data removed]",
      "text/plain": [
       "<Figure size 432x288 with 1 Axes>"
      ]
     },
     "metadata": {
      "needs_background": "light"
     },
     "output_type": "display_data"
    }
   ],
   "source": [
    "xw_d , w_d = getFFT( xn_d , N_d)\n",
    "\n",
    "plt.figure()\n",
    "plt.stem(w_d/np.pi,abs(xw_d) , use_line_collection='True')\n",
    "plt.xlabel('$\\omega$ / $\\pi$')\n",
    "plt.ylabel('$X_d(\\omega)$')\n",
    "plt.title('Seyrek örnekleme sonrası $X_d(\\omega)$ (Genlik)')"
   ]
  },
  {
   "cell_type": "markdown",
   "metadata": {},
   "source": [
    "###### İnterpolasyon haricinde B ve C grafikleri benzer çıkmıştır. <br> B ile C şıkları arasındaki fark: interpolasyon işlemininin B'de zaman domeininde sık örneklenen işaretin dürtü cevabı ile konvolüsyona alınmasından , C'de frekans domeininde sık örneklenen işaretin alçak geçiren filtre ile çarpılması ile elde edilir. C şıkkında iki dürtü haricinde gürültü görülmezken B şıkkında azda olsa gürültü görülmektedir. Eğer B şıkkında dürtü cevabı sinc seçilseydi benzer işaretler görülebilirdi."
   ]
  },
  {
   "cell_type": "markdown",
   "metadata": {},
   "source": [
    "###### Ek çalışma ->"
   ]
  },
  {
   "cell_type": "code",
   "execution_count": 34,
   "metadata": {},
   "outputs": [],
   "source": [
    "\n",
    "def getUpsampling(xn , L , N):\n",
    "    \"\"\"\n",
    "    Sık örnekleme işlemi fonksiyonu\n",
    "    Giriş parametreleri : \n",
    "    xn : Sık örnekleme yapılacak array\n",
    "    L  : Sık örnekleme katsayısı\n",
    "    N  : Sample\n",
    "    \n",
    "    Çıkış parametreleri : \n",
    "    xn_u : Sık örnekleme sonrası array\n",
    "    n_u  : Sample (N*L) \n",
    "    \n",
    "    \"\"\"\n",
    "\n",
    "    N_u = N * L\n",
    "    xn_u = np.zeros(N_u)\n",
    "\n",
    "    xn_u[::L] = xn\n",
    "    n_u = np.arange(0, N_u)\n",
    "    \n",
    "    return( xn_u , n_u)\n"
   ]
  },
  {
   "cell_type": "code",
   "execution_count": 23,
   "metadata": {},
   "outputs": [],
   "source": [
    "def getPlot(xn , n):\n",
    "    \"\"\"\n",
    "    Çizdirme fonksiyonu\n",
    "    Giriş parametreleri :\n",
    "    xn :  Çizdirilecek Array \n",
    "    n  :  Array uzunluğu \n",
    "    \"\"\"\n",
    "    \n",
    "    \n",
    "    plt.figure()\n",
    "    plt.stem(n, xn , use_line_collection='True')\n",
    "    plt.ylabel('$x[n]$')\n",
    "    plt.xlabel('n (örnek)')"
   ]
  },
  {
   "cell_type": "code",
   "execution_count": 24,
   "metadata": {},
   "outputs": [],
   "source": [
    "def getInter(xn_u , h_lin):\n",
    "    \"\"\"\n",
    "    Sık örneklenen diziye interpolasyon uygulanması için ->\n",
    "    Giriş parametreleri :\n",
    "    xn_u  : Sık örneklenen dizi\n",
    "    h_lin : İnterpolasyon filtresi\n",
    "    Çıkış parametreleri :\n",
    "    xn_i : interpolasyon uygulanmış array\n",
    "    n_i  : range \n",
    "    \"\"\"\n",
    "    \n",
    "    xn_i = np.convolve( xn_u , h_lin , 'same')\n",
    "\n",
    "    n_i = np.arange(len(xn_i))\n",
    "    N_i = len(n_i)\n",
    "    return ( xn_i, n_i)\n"
   ]
  },
  {
   "cell_type": "code",
   "execution_count": 25,
   "metadata": {},
   "outputs": [],
   "source": [
    "def getOutput(xn , L ,N ,h_lin):\n",
    "    x1 , n1 = getUpsampling(xn , L ,N)\n",
    "    #xi1, ni1 =getInter(x1 , h_lin1)\n",
    "    return (getInter(x1 , h_lin))"
   ]
  },
  {
   "cell_type": "code",
   "execution_count": 26,
   "metadata": {},
   "outputs": [
    {
     "name": "stdout",
     "output_type": "stream",
     "text": [
      "Not equal\n",
      "**************\n",
      "[ True  True  True  True  True False  True False  True  True  True False\n",
      "  True  True  True  True  True False  True  True  True  True  True False\n",
      "  True False False  True False  True  True  True  True  True  True  True\n",
      "  True  True  True  True  True  True]\n",
      "**************\n",
      "farklı değer sayısı :  8\n",
      "y1  [ 3.          3.33333333  3.86666667 -3.5        -6.41666667 -4.28333333\n",
      " -1.86666667  2.96666667]\n",
      "y2  [ 3.          3.33333333  3.86666667 -3.5        -6.41666667 -4.28333333\n",
      " -1.86666667  2.96666667]\n"
     ]
    },
    {
     "data": {
      "image/png": "[encoded data removed]",
      "text/plain": [
       "<Figure size 432x288 with 1 Axes>"
      ]
     },
     "metadata": {
      "needs_background": "light"
     },
     "output_type": "display_data"
    },
    {
     "data": {
      "image/png": "[encoded data removed]",
      "text/plain": [
       "<Figure size 432x288 with 1 Axes>"
      ]
     },
     "metadata": {
      "needs_background": "light"
     },
     "output_type": "display_data"
    }
   ],
   "source": [
    "myArr = np.array([2, 3.2 , 4 , -5 , -6.7 , 7.8 , 15 ])\n",
    "\n",
    "L1 = 2\n",
    "L2 = 3\n",
    "L3 = 6\n",
    "\n",
    "h_lin1 = np.array([0,1/2,1,1/2,0]) \n",
    "h_lin2 = np.array([0,1/3,2/3,1,2/3,1/3,0]) \n",
    "h_lin3 = np.array([0,1/6,2/6,3/6,4/6,5/6,1,5/6 ,4/6,3/6,2/6,1/6,0]) \n",
    "\n",
    "\n",
    "# y1[n] için ->\n",
    "xi1 , ni1 = getOutput(myArr , L1 , len(myArr) , h_lin1)\n",
    "y1  , n1  = getOutput(xi1 , L2 , len(xi1) , h_lin2)\n",
    "\n",
    "#y2[n] için ->\n",
    "y2, n2 = getOutput(myArr, L3 , len(myArr) ,h_lin3 )\n",
    "\n",
    "\n",
    "\n",
    "getPlot(y1 , n1)\n",
    "getPlot(y2 , n2)\n",
    "\n",
    "print(' Equal ' if (y1==y2).all() else 'Not equal')\n",
    "print('**************')\n",
    "print(np.equal(y1,y2))\n",
    "print('**************')\n",
    "print('farklı değer sayısı : ' , np.sum(np.not_equal(y1,y2)))\n",
    "\n",
    "print( \"y1 \" , y1[np.not_equal(y1,y2)])\n",
    "\n",
    "print( \"y2 \" , y2[np.not_equal(y2,y1)])"
   ]
  },
  {
   "cell_type": "markdown",
   "metadata": {},
   "source": [
    "print fonksiyonu ile çıkış işaretlerinin farklı değerleri bastırıldığında aynı sonuçları vermesinden dolayı aynı denilebilir. "
   ]
  },
  {
   "cell_type": "code",
   "execution_count": null,
   "metadata": {},
   "outputs": [],
   "source": []
  },
  {
   "cell_type": "code",
   "execution_count": null,
   "metadata": {},
   "outputs": [],
   "source": []
  },
  {
   "cell_type": "code",
   "execution_count": null,
   "metadata": {},
   "outputs": [],
   "source": []
  }
 ],
 "metadata": {
  "kernelspec": {
   "display_name": "Python 3",
   "language": "python",
   "name": "python3"
  },
  "language_info": {
   "codemirror_mode": {
    "name": "ipython",
    "version": 3
   },
   "file_extension": ".py",
   "mimetype": "text/x-python",
   "name": "python",
   "nbconvert_exporter": "python",
   "pygments_lexer": "ipython3",
   "version": "3.7.3"
  }
 },
 "nbformat": 4,
 "nbformat_minor": 2
}
