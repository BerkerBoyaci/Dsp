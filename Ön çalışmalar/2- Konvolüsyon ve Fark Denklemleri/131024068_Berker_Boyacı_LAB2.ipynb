{
 "cells": [
  {
   "cell_type": "markdown",
   "metadata": {},
   "source": [
    "# Ön Hazırlık LAB-2"
   ]
  },
  {
   "cell_type": "markdown",
   "metadata": {},
   "source": [
    "# Adı Soyadı                 :  Berker Boyacı\n",
    "# Öğrenci Numarası     :  131024068\n",
    "# Lab Kimlik Numarası:  92"
   ]
  },
  {
   "cell_type": "code",
   "execution_count": 2,
   "metadata": {},
   "outputs": [
    {
     "data": {
      "text/plain": [
       "\"\\n#Ön Çalışma\\n## Fark denklemlerinin çözümleri ->\\n\\n###### Listeler ile ->\\n\\nx = [0,1,-1,0,0,0]\\ny = [0]\\n\\nfor i in range(1,len(x)):\\n    y.append(-0.5*y[i-1]+x[i]+2*x[i-1])\\n    \\nprint(y)\\n\\n###### Numpy Arrayi ile ->\\nx = np.array([0,1,-1,0,0,0],dtype = float)\\ny = np.array(np.zeros(np.size(x) , dtype = float))\\n\\n\\nfor i in range(1 , len(x)):\\n    y[i] = -0.5*y[i-1]+x[i]+2*x[i-1]\\n    \\nprint(y)\\n\\n###### Hazır fonksiyon ile ->\\n\\nx = np.array([0,1,-1,0,0,0], dtype = float)\\nb = [1,2]\\na = [1 , 0.5]\\n\\ny = signal.lfilter(b,a,x)\\nprint(y)\\n\\nn = np.arange(-1,5)\\nplt.stem(n,y, use_line_collection = 'True')\\nplt.xlabel('n')\\nplt.ylabel('y[n]')\\n\\n## 2- Dürtü cevabı bilinen bir sistemin giriş işaretine verdiği cevabı bulmak\\n\\nh = np.array([1,3],dtype = float)\\nx = np.array([1,2,-1], dtype = float)\\n\\nM = len(h)\\nN = len(x)\\nL = M+N-1\\n\\ny = np.zeros([L])\\n\\nfor n in range(L):\\n    y[n] = 0\\n    for k in range(N): \\n        if n-k < 0 or n-k >= M:\\n            h_n_k = 0\\n        else:\\n            h_n_k = h[n-k]\\n        y[n] = y[n] + x[k] * h_n_k\\nprint(y)\\n\\n####### Hazır fonksiyon ile :\\nh = np.array([1,3],dtype = float)\\nx = np.array([1,2,-1], dtype = float)\\n\\nprint(np.convolve(x,h))\\nprint(signal.convolve(x,h))\\n\""
      ]
     },
     "execution_count": 2,
     "metadata": {},
     "output_type": "execute_result"
    }
   ],
   "source": [
    "import numpy as np\n",
    "import matplotlib.pyplot as plt\n",
    "from scipy import signal\n",
    "\n",
    "\n",
    "\"\"\"\n",
    "#Ön Çalışma\n",
    "## Fark denklemlerinin çözümleri ->\n",
    "\n",
    "###### Listeler ile ->\n",
    "\n",
    "x = [0,1,-1,0,0,0]\n",
    "y = [0]\n",
    "\n",
    "for i in range(1,len(x)):\n",
    "    y.append(-0.5*y[i-1]+x[i]+2*x[i-1])\n",
    "    \n",
    "print(y)\n",
    "\n",
    "###### Numpy Arrayi ile ->\n",
    "x = np.array([0,1,-1,0,0,0],dtype = float)\n",
    "y = np.array(np.zeros(np.size(x) , dtype = float))\n",
    "\n",
    "\n",
    "for i in range(1 , len(x)):\n",
    "    y[i] = -0.5*y[i-1]+x[i]+2*x[i-1]\n",
    "    \n",
    "print(y)\n",
    "\n",
    "###### Hazır fonksiyon ile ->\n",
    "\n",
    "x = np.array([0,1,-1,0,0,0], dtype = float)\n",
    "b = [1,2]\n",
    "a = [1 , 0.5]\n",
    "\n",
    "y = signal.lfilter(b,a,x)\n",
    "print(y)\n",
    "\n",
    "n = np.arange(-1,5)\n",
    "plt.stem(n,y, use_line_collection = 'True')\n",
    "plt.xlabel('n')\n",
    "plt.ylabel('y[n]')\n",
    "\n",
    "## 2- Dürtü cevabı bilinen bir sistemin giriş işaretine verdiği cevabı bulmak\n",
    "\n",
    "h = np.array([1,3],dtype = float)\n",
    "x = np.array([1,2,-1], dtype = float)\n",
    "\n",
    "M = len(h)\n",
    "N = len(x)\n",
    "L = M+N-1\n",
    "\n",
    "y = np.zeros([L])\n",
    "\n",
    "for n in range(L):\n",
    "    y[n] = 0\n",
    "    for k in range(N): \n",
    "        if n-k < 0 or n-k >= M:\n",
    "            h_n_k = 0\n",
    "        else:\n",
    "            h_n_k = h[n-k]\n",
    "        y[n] = y[n] + x[k] * h_n_k\n",
    "print(y)\n",
    "\n",
    "####### Hazır fonksiyon ile :\n",
    "h = np.array([1,3],dtype = float)\n",
    "x = np.array([1,2,-1], dtype = float)\n",
    "\n",
    "print(np.convolve(x,h))\n",
    "print(signal.convolve(x,h))\n",
    "\"\"\""
   ]
  },
  {
   "cell_type": "markdown",
   "metadata": {},
   "source": [
    "# Çalışma Soruları : "
   ]
  },
  {
   "cell_type": "markdown",
   "metadata": {},
   "source": [
    "# Soru 1:"
   ]
  },
  {
   "cell_type": "markdown",
   "metadata": {},
   "source": [
    "## Soru 1-A:"
   ]
  },
  {
   "cell_type": "markdown",
   "metadata": {},
   "source": [
    "y[n] = x[n] - x[n-1]        <br>\n",
    "x[n] = dirac[n] ise ->      <br>\n",
    "h[n] = dirac[n] -dirac[n-1] <br>"
   ]
  },
  {
   "cell_type": "markdown",
   "metadata": {},
   "source": [
    "## Soru 1- B :"
   ]
  },
  {
   "cell_type": "markdown",
   "metadata": {},
   "source": [
    "Sistemin toplamı sonsuz olmadığından sistem kararlıdır."
   ]
  },
  {
   "cell_type": "markdown",
   "metadata": {},
   "source": [
    "## Soru 1-C : "
   ]
  },
  {
   "cell_type": "code",
   "execution_count": 4,
   "metadata": {},
   "outputs": [
    {
     "name": "stdout",
     "output_type": "stream",
     "text": [
      "[ 1.         -0.19098301 -0.5        -0.61803399 -0.5        -0.19098301\n",
      "  0.19098301  0.5         0.61803399  0.5         0.19098301 -0.19098301\n",
      " -0.5        -0.61803399 -0.5        -0.19098301  0.19098301  0.5\n",
      "  0.61803399  0.5       ]\n"
     ]
    },
    {
     "data": {
      "image/png": "[encoded data removed]",
      "text/plain": [
       "<Figure size 432x288 with 1 Axes>"
      ]
     },
     "metadata": {
      "needs_background": "light"
     },
     "output_type": "display_data"
    }
   ],
   "source": [
    "n = np.arange(0,20)\n",
    "n1 = np.arange(0,21)\n",
    "x_n = np.cos(np.pi * n / 5)\n",
    "h_n = np.array([1,-1],dtype = float)\n",
    "\n",
    "y_n = np.convolve(h_n , x_n  )\n",
    "\n",
    "# b : giriş katsayıları \n",
    "b = [1,-1]\n",
    "\n",
    "# a : :Çıkış katsayıları \n",
    "a = [1]\n",
    "\n",
    "out = signal.lfilter(b,a,x_n)\n",
    "\n",
    "print(out)\n",
    "\n",
    "\n",
    "plt.stem(n , out, use_line_collection = 'True')\n",
    "plt.show()"
   ]
  },
  {
   "cell_type": "markdown",
   "metadata": {},
   "source": [
    "## Soru 2 :"
   ]
  },
  {
   "cell_type": "markdown",
   "metadata": {},
   "source": [
    "## Soru 2-A :"
   ]
  },
  {
   "cell_type": "code",
   "execution_count": 20,
   "metadata": {},
   "outputs": [
    {
     "data": {
      "image/png": "[encoded data removed]",
      "text/plain": [
       "<Figure size 432x288 with 1 Axes>"
      ]
     },
     "metadata": {
      "needs_background": "light"
     },
     "output_type": "display_data"
    },
    {
     "data": {
      "image/png": "[encoded data removed]",
      "text/plain": [
       "<Figure size 432x288 with 1 Axes>"
      ]
     },
     "metadata": {
      "needs_background": "light"
     },
     "output_type": "display_data"
    }
   ],
   "source": [
    "n = np.arange(0,100)\n",
    "x_n = np.zeros([100])\n",
    "x_n[0]=1\n",
    "\n",
    "\n",
    "# b : giriş katsayıları :\n",
    "b = [1]\n",
    "\n",
    "# sistem -1 için çıkış katsayıları\n",
    "a1 = [1,-0.5]\n",
    "\n",
    "# sistem 2 için çıkış katsayıları : \n",
    "a2 = [1,-2]\n",
    "\n",
    "\n",
    "out1 = signal.lfilter(b,a1,x_n)\n",
    "out2 = signal.lfilter(b,a2,x_n)\n",
    "\n",
    "\n",
    "plt.stem(n , out1, use_line_collection = 'True')\n",
    "plt.show()\n",
    "\n",
    "plt.figure()\n",
    "plt.stem(n , out2, use_line_collection = 'True')\n",
    "plt.show()"
   ]
  },
  {
   "cell_type": "markdown",
   "metadata": {},
   "source": [
    "# Soru 2-B :"
   ]
  },
  {
   "cell_type": "markdown",
   "metadata": {},
   "source": [
    "İlk grafik için (Sistem-1) toplam sonsuz olmadığından sistem kararlıdır.\n",
    "İkinci grafik için (Sistem-2) toplam sonsuza gittiğinden sistem kararsızdır."
   ]
  },
  {
   "cell_type": "markdown",
   "metadata": {},
   "source": [
    "# Soru 2-C :"
   ]
  },
  {
   "cell_type": "markdown",
   "metadata": {},
   "source": [
    "İki sistemde gelecek değerleri olmadığı için sistemler nedenseldir."
   ]
  }
 ],
 "metadata": {
  "kernelspec": {
   "display_name": "Python 3",
   "language": "python",
   "name": "python3"
  },
  "language_info": {
   "codemirror_mode": {
    "name": "ipython",
    "version": 3
   },
   "file_extension": ".py",
   "mimetype": "text/x-python",
   "name": "python",
   "nbconvert_exporter": "python",
   "pygments_lexer": "ipython3",
   "version": "3.7.3"
  }
 },
 "nbformat": 4,
 "nbformat_minor": 2
}
