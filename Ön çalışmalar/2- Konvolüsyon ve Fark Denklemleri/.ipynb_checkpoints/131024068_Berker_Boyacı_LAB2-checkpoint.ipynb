{
 "cells": [
  {
   "cell_type": "code",
   "execution_count": 7,
   "metadata": {},
   "outputs": [],
   "source": [
    "import numpy as np\n",
    "import matplotlib.pyplot as plt\n",
    "from scipy import signal"
   ]
  },
  {
   "cell_type": "markdown",
   "metadata": {},
   "source": [
    "## Fark denklemlerinin çözümleri ->"
   ]
  },
  {
   "cell_type": "markdown",
   "metadata": {},
   "source": [
    "###### Listeler ile ->"
   ]
  },
  {
   "cell_type": "code",
   "execution_count": 8,
   "metadata": {},
   "outputs": [
    {
     "name": "stdout",
     "output_type": "stream",
     "text": [
      "[0, 1.0, 0.5, -2.25, 1.125, -0.5625]\n"
     ]
    }
   ],
   "source": [
    "x = [0,1,-1,0,0,0]\n",
    "y = [0]\n",
    "\n",
    "for i in range(1,len(x)):\n",
    "    y.append(-0.5*y[i-1]+x[i]+2*x[i-1])\n",
    "    \n",
    "print(y)"
   ]
  },
  {
   "cell_type": "markdown",
   "metadata": {},
   "source": [
    "###### Numpy Arrayi ile ->"
   ]
  },
  {
   "cell_type": "code",
   "execution_count": 9,
   "metadata": {},
   "outputs": [
    {
     "name": "stdout",
     "output_type": "stream",
     "text": [
      "[ 0.      1.      0.5    -2.25    1.125  -0.5625]\n"
     ]
    }
   ],
   "source": [
    "x = np.array([0,1,-1,0,0,0],dtype = float)\n",
    "y = np.array(np.zeros(np.size(x) , dtype = float))\n",
    "\n",
    "\n",
    "for i in range(1 , len(x)):\n",
    "    y[i] = -0.5*y[i-1]+x[i]+2*x[i-1]\n",
    "    \n",
    "print(y)"
   ]
  },
  {
   "cell_type": "markdown",
   "metadata": {},
   "source": [
    "###### Hazır fonksiyon ile ->"
   ]
  },
  {
   "cell_type": "code",
   "execution_count": 10,
   "metadata": {},
   "outputs": [
    {
     "name": "stdout",
     "output_type": "stream",
     "text": [
      "[ 0.      1.      0.5    -2.25    1.125  -0.5625]\n"
     ]
    }
   ],
   "source": [
    "x = np.array([0,1,-1,0,0,0], dtype = float)\n",
    "b = [1,2]\n",
    "a = [1 , 0.5]\n",
    "\n",
    "y = signal.lfilter(b,a,x)\n",
    "print(y)\n"
   ]
  },
  {
   "cell_type": "code",
   "execution_count": 12,
   "metadata": {},
   "outputs": [
    {
     "data": {
      "text/plain": [
       "Text(0, 0.5, 'y[n]')"
      ]
     },
     "execution_count": 12,
     "metadata": {},
     "output_type": "execute_result"
    },
    {
     "data": {
      "image/png": "[encoded data removed]",
      "text/plain": [
       "<Figure size 432x288 with 1 Axes>"
      ]
     },
     "metadata": {
      "needs_background": "light"
     },
     "output_type": "display_data"
    }
   ],
   "source": [
    "n = np.arange(-1,5)\n",
    "plt.stem(n,y, use_line_collection = 'True')\n",
    "plt.xlabel('n')\n",
    "plt.ylabel('y[n]')"
   ]
  },
  {
   "cell_type": "markdown",
   "metadata": {},
   "source": [
    "## 2- Dürtü cevabı bilinen bir sistemin giriş işaretine verdiği cevabı bulmak"
   ]
  },
  {
   "cell_type": "code",
   "execution_count": 24,
   "metadata": {},
   "outputs": [
    {
     "name": "stdout",
     "output_type": "stream",
     "text": [
      "[ 1.  5.  5. -3.]\n"
     ]
    }
   ],
   "source": [
    "h = np.array([1,3],dtype = float)\n",
    "x = np.array([1,2,-1], dtype = float)\n",
    "\n",
    "M = len(h)\n",
    "N = len(x)\n",
    "L = M+N-1\n",
    "\n",
    "y = np.zeros([L])\n",
    "\n",
    "for n in range(L):\n",
    "    y[n] = 0\n",
    "    for k in range(N): \n",
    "        if n-k < 0 or n-k >= M:\n",
    "            h_n_k = 0\n",
    "        else:\n",
    "            h_n_k = h[n-k]\n",
    "        y[n] = y[n] + x[k] * h_n_k\n",
    "print(y)"
   ]
  },
  {
   "cell_type": "code",
   "execution_count": 75,
   "metadata": {},
   "outputs": [
    {
     "name": "stdout",
     "output_type": "stream",
     "text": [
      "[ 1.  5.  5. -3.]\n",
      "[ 1.  5.  5. -3.]\n"
     ]
    }
   ],
   "source": [
    "h = np.array([1,3],dtype = float)\n",
    "x = np.array([1,2,-1], dtype = float)\n",
    "\n",
    "print(np.convolve(x,h))\n",
    "print(signal.convolve(x,h))\n"
   ]
  },
  {
   "cell_type": "markdown",
   "metadata": {},
   "source": [
    "# Çalışma Soruları : "
   ]
  },
  {
   "cell_type": "markdown",
   "metadata": {},
   "source": [
    "# Soru 1:"
   ]
  },
  {
   "cell_type": "markdown",
   "metadata": {},
   "source": [
    "## Soru 1- B :"
   ]
  },
  {
   "cell_type": "markdown",
   "metadata": {},
   "source": [
    "Sistemin toplamı sonsuz olmadığından sistem kararlıdır."
   ]
  },
  {
   "cell_type": "markdown",
   "metadata": {},
   "source": [
    "## Soru 1-C : "
   ]
  },
  {
   "cell_type": "code",
   "execution_count": 72,
   "metadata": {},
   "outputs": [
    {
     "name": "stdout",
     "output_type": "stream",
     "text": [
      "[ 1.         -1.19098301 -0.30901699 -0.11803399  0.11803399  0.30901699\n",
      "  0.38196601  0.30901699  0.11803399 -0.11803399 -0.30901699 -0.38196601\n",
      " -0.30901699 -0.11803399  0.11803399  0.30901699  0.38196601  0.30901699\n",
      "  0.11803399 -0.11803399 -1.30901699]\n"
     ]
    },
    {
     "data": {
      "image/png": "[encoded data removed]",
      "text/plain": [
       "<Figure size 432x288 with 1 Axes>"
      ]
     },
     "metadata": {
      "needs_background": "light"
     },
     "output_type": "display_data"
    }
   ],
   "source": [
    "n = np.arange(0,20)\n",
    "n1 = np.arange(0,21)\n",
    "x_n = np.cos(np.pi * n / 5)\n",
    "h_n = np.array([1,-1],dtype = float)\n",
    "\n",
    "y_n = np.convolve(h_n , x_n  )\n",
    "\n",
    "# b : giriş katsayıları \n",
    "b = [1,-1]\n",
    "\n",
    "# a : :Çıkış katsayıları \n",
    "a = [1]\n",
    "\n",
    "out = signal.lfilter(b,a,y_n)\n",
    "\n",
    "print(out)\n",
    "\n",
    "\n",
    "plt.stem(n1 , out, use_line_collection = 'True')\n",
    "plt.show()"
   ]
  },
  {
   "cell_type": "markdown",
   "metadata": {},
   "source": [
    "## Soru 2 :"
   ]
  },
  {
   "cell_type": "markdown",
   "metadata": {},
   "source": [
    "## Soru 2-A :"
   ]
  },
  {
   "cell_type": "code",
   "execution_count": 74,
   "metadata": {},
   "outputs": [
    {
     "data": {
      "image/png": "[encoded data removed]",
      "text/plain": [
       "<Figure size 432x288 with 1 Axes>"
      ]
     },
     "metadata": {
      "needs_background": "light"
     },
     "output_type": "display_data"
    },
    {
     "data": {
      "image/png": "[encoded data removed]",
      "text/plain": [
       "<Figure size 432x288 with 1 Axes>"
      ]
     },
     "metadata": {
      "needs_background": "light"
     },
     "output_type": "display_data"
    }
   ],
   "source": [
    "n = np.arange(0,100)\n",
    "#x_n = np.append([1],np.zeros([99]))\n",
    "x_n = np.zeros([100])\n",
    "x_n[0]=1\n",
    "#x_n = np.array([1] , dtype = float) + n \n",
    "\n",
    "\n",
    "# b : giriş katsayıları :\n",
    "b = [1]\n",
    "\n",
    "# sistem -1 için çıkış katsayıları\n",
    "a1 = [1,-0.5]\n",
    "\n",
    "# sistem 2 için çıkış katsayıları : \n",
    "a2 = [1,-2]\n",
    "\n",
    "\n",
    "out1 = signal.lfilter(b,a1,x_n)\n",
    "out2 = signal.lfilter(b,a2,x_n)\n",
    "\n",
    "\n",
    "plt.stem(n , out1, use_line_collection = 'True')\n",
    "plt.show()\n",
    "\n",
    "plt.figure()\n",
    "plt.stem(n , out2, use_line_collection = 'True')\n",
    "plt.show()"
   ]
  },
  {
   "cell_type": "markdown",
   "metadata": {},
   "source": [
    "# Soru 2-B :"
   ]
  },
  {
   "cell_type": "markdown",
   "metadata": {},
   "source": [
    "İlk grafik için (Sistem-1) toplam sonsuz olmadığından sistem kararlıdır.\n",
    "İkinci grafik için (Sistem-2) toplam sonsuza gittiğinden sistem kararsızdır."
   ]
  },
  {
   "cell_type": "markdown",
   "metadata": {},
   "source": [
    "# Soru 2-C :"
   ]
  },
  {
   "cell_type": "markdown",
   "metadata": {},
   "source": [
    "İki sistemde gelecek değerleri olmadığı için sistemler nedenseldir."
   ]
  }
 ],
 "metadata": {
  "kernelspec": {
   "display_name": "Python 3",
   "language": "python",
   "name": "python3"
  },
  "language_info": {
   "codemirror_mode": {
    "name": "ipython",
    "version": 3
   },
   "file_extension": ".py",
   "mimetype": "text/x-python",
   "name": "python",
   "nbconvert_exporter": "python",
   "pygments_lexer": "ipython3",
   "version": "3.7.3"
  }
 },
 "nbformat": 4,
 "nbformat_minor": 2
}
