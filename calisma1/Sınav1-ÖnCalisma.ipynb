{
 "cells": [
  {
   "cell_type": "markdown",
   "metadata": {},
   "source": [
    "# Lab sınav 1 çalışması ->"
   ]
  },
  {
   "cell_type": "code",
   "execution_count": 22,
   "metadata": {},
   "outputs": [],
   "source": [
    "import numpy as np\n",
    "import matplotlib.pyplot as plt\n",
    "from scipy import signal"
   ]
  },
  {
   "cell_type": "code",
   "execution_count": 64,
   "metadata": {},
   "outputs": [],
   "source": [
    "# 1 - Temel İşaretler\n",
    "# 2 - İşaret oluşturma\n",
    "# 3 - İşaretleri ötelemek\n",
    "# 4 - Fark denklemi verilen LTI sistemlerde çıkışı hesaplama\n",
    "# 5 - Konvolüsyon hesaplama\n",
    "# 6 - Örnekleme\n",
    "# 7 - Kuantalama\n",
    "# 8 - Seyrek örnekleme \n",
    "# 9 - Sık örnekleme \n",
    "# 10 - Alçak geçiren filtreden geçirme \n"
   ]
  },
  {
   "cell_type": "markdown",
   "metadata": {},
   "source": [
    "# 1 - Temel işaretler "
   ]
  },
  {
   "cell_type": "markdown",
   "metadata": {},
   "source": [
    "#### u[n]"
   ]
  },
  {
   "cell_type": "code",
   "execution_count": 7,
   "metadata": {},
   "outputs": [],
   "source": [
    "n = np.arange(-20,21)\n",
    "\n",
    "u_n = np.array([0 if i< 0 else 1 for i in n])"
   ]
  },
  {
   "cell_type": "markdown",
   "metadata": {},
   "source": [
    "##### u[n-3]"
   ]
  },
  {
   "cell_type": "code",
   "execution_count": 8,
   "metadata": {},
   "outputs": [],
   "source": [
    "n= np.arange(-20,21)\n",
    "\n",
    "u_n_3 = np.array([0 if i < 3 else 1 for i in n])"
   ]
  },
  {
   "cell_type": "markdown",
   "metadata": {},
   "source": [
    "##### u[n] - u[n-10]"
   ]
  },
  {
   "cell_type": "code",
   "execution_count": 10,
   "metadata": {},
   "outputs": [],
   "source": [
    "n= np.arange(-20,21)\n",
    "\n",
    "u_n_eksi_u_n_10 = np.array([1 if i >= 0 and i < 10 else 0 for i in n])"
   ]
  },
  {
   "cell_type": "markdown",
   "metadata": {},
   "source": [
    "##### dirac[n] "
   ]
  },
  {
   "cell_type": "code",
   "execution_count": 11,
   "metadata": {},
   "outputs": [],
   "source": [
    "n= np.arange(-20,21)\n",
    "\n",
    "dirac_n = np.array([0 if i != 0 else 1 for i in n])"
   ]
  },
  {
   "cell_type": "markdown",
   "metadata": {},
   "source": [
    "###### dirac[n+2]"
   ]
  },
  {
   "cell_type": "code",
   "execution_count": 14,
   "metadata": {},
   "outputs": [],
   "source": [
    "n= np.arange(-20,21)\n",
    "\n",
    "dirac_n_arti_2 = np.array([0 if i != -2 else 1 for i in n])"
   ]
  },
  {
   "cell_type": "markdown",
   "metadata": {},
   "source": [
    "# 2 - İşaret oluşturma"
   ]
  },
  {
   "cell_type": "markdown",
   "metadata": {},
   "source": [
    "#### Ayrık-zamanlı işaret oluşturmak"
   ]
  },
  {
   "cell_type": "code",
   "execution_count": 3,
   "metadata": {},
   "outputs": [],
   "source": [
    "n=np.arange(0,10)\n",
    "\n",
    "x=np.cos(n*np.pi/3+np.pi/2)"
   ]
  },
  {
   "cell_type": "markdown",
   "metadata": {},
   "source": [
    "#### Sürekli zamanlı işaret oluşturmak "
   ]
  },
  {
   "cell_type": "code",
   "execution_count": 4,
   "metadata": {},
   "outputs": [],
   "source": [
    "t=np.linspace(0,2/50,1000)\n",
    "\n",
    "x=np.cos(100*np.pi*t-np.pi/5)"
   ]
  },
  {
   "cell_type": "markdown",
   "metadata": {},
   "source": [
    "# 3 - İşaretleri ötelemek"
   ]
  },
  {
   "cell_type": "markdown",
   "metadata": {},
   "source": [
    " Yol - 1:\n",
    " 𝑥 vektörüne  dokunmadan  doğrudan 𝑛 vektörünü öteler."
   ]
  },
  {
   "cell_type": "code",
   "execution_count": 16,
   "metadata": {},
   "outputs": [],
   "source": [
    "n=np.array([0,1,2,3,4])\n",
    "n2=n+2#n’de her elemana 2 ekler\n",
    "x3=np.array([1,0,2,-1,0])"
   ]
  },
  {
   "cell_type": "markdown",
   "metadata": {},
   "source": [
    "Yol - 2: 𝑛 vektörüne dokunmadan 𝑥 vektörünün başına yada sonuna “0” ekleyip, seklenen eleman kadar elemanı vektörden silmek"
   ]
  },
  {
   "cell_type": "code",
   "execution_count": 18,
   "metadata": {},
   "outputs": [],
   "source": [
    "n=np.array([0,1,2,3,4,5])\n",
    "x=np.array([1,0,2,-1,0,0])\n",
    "x_shifted=np.append(np.array([0,0]),x[:-2])"
   ]
  },
  {
   "cell_type": "markdown",
   "metadata": {},
   "source": [
    "# 4 - Fark denklemi verilen LTI sistemlerde çıkışı hesaplama"
   ]
  },
  {
   "cell_type": "markdown",
   "metadata": {},
   "source": [
    "###### Hazır fonksiyon kullanmadan->"
   ]
  },
  {
   "cell_type": "code",
   "execution_count": 23,
   "metadata": {},
   "outputs": [],
   "source": [
    "x=[0,1,-1,0,0]                           # giriş işareti\n",
    "y=[0]                                    # çıkış işareti\n",
    "for i in range(1,len(x)):\n",
    "    y.append(-0.5*y[i-1]+x[i]+2*x[i-1])  # fark denklemi"
   ]
  },
  {
   "cell_type": "markdown",
   "metadata": {},
   "source": [
    "###### Hazır komut kullanarak çıkış işaretini hesaplama"
   ]
  },
  {
   "cell_type": "code",
   "execution_count": 24,
   "metadata": {},
   "outputs": [],
   "source": [
    "x=np.array([0,1,-1,0,0],dtype=float)   # x : girişe uygulanan işaret\n",
    "b=[1,2]                                # b : giriş işareti katsayıları\n",
    "a=[1,0.5]                              # a : çıkış işareti katsayıları \n",
    "y=signal.lfilter(b,a,x)                # y : elde edilen işaret"
   ]
  },
  {
   "cell_type": "markdown",
   "metadata": {},
   "source": [
    "# 5 - Konvolüsyon"
   ]
  },
  {
   "cell_type": "code",
   "execution_count": 30,
   "metadata": {},
   "outputs": [
    {
     "data": {
      "text/plain": [
       "array([ 1.,  5.,  5., -3.])"
      ]
     },
     "execution_count": 30,
     "metadata": {},
     "output_type": "execute_result"
    }
   ],
   "source": [
    "h=np.array([1,2,-1],dtype=float)\n",
    "x=np.array([1,3],dtype=float)\n",
    "np.convolve(x,h)\n",
    "\n",
    "# NOT : çizdirme için x ve h işaretlerinin \n",
    "# başlangıç ve bitiş indislerindeki dürtülerin ayrı ayrı konvolusyonlarını almalı."
   ]
  },
  {
   "cell_type": "markdown",
   "metadata": {},
   "source": [
    "# 6 - Örnekleme "
   ]
  },
  {
   "cell_type": "markdown",
   "metadata": {},
   "source": [
    "###### Zaman domeininde ->"
   ]
  },
  {
   "cell_type": "code",
   "execution_count": 33,
   "metadata": {},
   "outputs": [],
   "source": [
    "Fs=400                                   # örnekleme frekansının tanımlanması\n",
    "Ts=1/Fs                                  # örnekleme periyodunun tanımlanması\n",
    "nTs=np.arange(0.,2/60,Ts)                # x işaretine ait t değişkeninin tanımlanması( 2 periyot boyunca)\n",
    "xnTs_1=np.cos(2*np.pi*60*nTs+np.pi/3)    # x1(nTs) işaretinin tanımlanması"
   ]
  },
  {
   "cell_type": "markdown",
   "metadata": {},
   "source": [
    "###### Frekans domeininde"
   ]
  },
  {
   "cell_type": "code",
   "execution_count": 38,
   "metadata": {},
   "outputs": [],
   "source": [
    "N = 100 \n",
    "F=100\n",
    "T=1/F\n",
    "xn = np.sinc(2*F*n*Ts)**2\n",
    "w = np.arange(-np.pi, np.pi, 2*np.pi/N)   # omega ekseninin -pi ile +pi arasında tanımlanması\n",
    "xw = np.fft.fftshift(np.fft.fft(xn,N)/N)  # ayrık zamanlı işaretin Fourier transformu"
   ]
  },
  {
   "cell_type": "markdown",
   "metadata": {},
   "source": [
    "###### Sürekli zamanlı sinyalin zaman domaininden elde edilmesi"
   ]
  },
  {
   "cell_type": "markdown",
   "metadata": {},
   "source": [
    "frekans domainindeki kare darbe işareti, zaman domaininde 𝑠𝑖𝑛𝑐(.)işaretine karşılık gelmektedir.frekans domainindeki AGF’den  geçirme  işlemi  yerine  zaman  domaininde verildiği  gibi 𝑠𝑖𝑛𝑐 işareti   ile konvolüsyon yapılabilir. "
   ]
  },
  {
   "cell_type": "code",
   "execution_count": 44,
   "metadata": {},
   "outputs": [],
   "source": [
    "# x_sinc = np.zeros([k*N,np.size(x,axis=0)])  # İşlem sonucunu yazabilmek için oluşturulan yeni dizi\n",
    "# plt.figure()\n",
    "\n",
    "# for ni in n:\n",
    "#     x_sinc[ni,:]=xn[ni]*np.sinc((t-(ni)*Ts)/Ts)\n",
    "#     plt.plot(x_sinc[ni,:])"
   ]
  },
  {
   "cell_type": "markdown",
   "metadata": {},
   "source": [
    "# 7 - Kuantalama"
   ]
  },
  {
   "cell_type": "markdown",
   "metadata": {},
   "source": [
    "şaretin kaç bit ile ifade edilmesi ile işaretin kuantalama adım aralığı arasındaki ilişkinin incelenmesi amaçlanmıştır."
   ]
  },
  {
   "cell_type": "code",
   "execution_count": 45,
   "metadata": {},
   "outputs": [],
   "source": [
    "def quantize(x, S):\n",
    "    X = x.reshape((-1,1))\n",
    "    S = S.reshape((1,-1))\n",
    "    dists = abs(X-S)\n",
    "    \n",
    "    nearestIndex = dists.argmin(axis=1)\n",
    "    quantized = S.flat[nearestIndex]\n",
    "    \n",
    "    return quantized.reshape(x.shape)"
   ]
  },
  {
   "cell_type": "code",
   "execution_count": 46,
   "metadata": {},
   "outputs": [],
   "source": [
    "k_bit= 2                                          \n",
    "Max_range= np.amax(xn)-np.amin(xn)                            # işaretin  max değer aralığı\n",
    "q=pow(2,k_bit)                                                # seviye sayısı\n",
    "delta = Max_range/q                                           # adım aralığı\n",
    "S_midrise = -np.amax(xn) +delta/2+np.arange(q)*delta          # mid-rise yöntemi için formül\n",
    "S_midtread = -np.amax(xn)  +np.arange(q)*delta                # mid-tread yöntemi için formül"
   ]
  },
  {
   "cell_type": "markdown",
   "metadata": {},
   "source": [
    "# 8 - Seyrek örnekleme "
   ]
  },
  {
   "cell_type": "markdown",
   "metadata": {},
   "source": [
    "#### Seyrek örneklemenin zaman domaininde incelenmesi"
   ]
  },
  {
   "cell_type": "code",
   "execution_count": 49,
   "metadata": {},
   "outputs": [],
   "source": [
    "# x(t)=5*cos(200*pi*t) sinyalinin fs=1200 Hz ile örneklenmesi\n",
    "Fs=1200# örnekleme frekansının tanımlanması\n",
    "Ts=1/Fs# örnekleme periyodunun tanımlanması\n",
    "N=12# bir periyottaki örnek sayısının tanımlanması\n",
    "n=np.arange(0.,2*N)  # örnekleme indisinin 0'dan iki periyot olacak şekilde array olarak tanımlanması\n",
    "xn=5*np.cos(200*np.pi*n*Ts)"
   ]
  },
  {
   "cell_type": "code",
   "execution_count": 50,
   "metadata": {},
   "outputs": [],
   "source": [
    "M = 2# Seyrek örnekleme (down sampling) oranı\n",
    "xn_d = xn[::M] # x[n] işaretinden sadece M katlarındaki örneklerin alınması\n",
    "Nn_d = len(xn_d)\n",
    "n_d = np.arange(0,Nn_d)  # x_d[n] işaretinin indis dizisi"
   ]
  },
  {
   "cell_type": "markdown",
   "metadata": {},
   "source": [
    "#### Seyrek örneklemenin frekans domaininde incelenmesi"
   ]
  },
  {
   "cell_type": "code",
   "execution_count": 51,
   "metadata": {},
   "outputs": [],
   "source": [
    "M = 2# Seyrek örnekleme (down sampling) oranı\n",
    "\n",
    "xn_d = xn[::M] # x[n] işaretinden sadece M katlarındaki örneklerin alınması\n",
    "N_d = (round)(N/M)\n",
    "n_d = np.arange(-N_d/2,N_d/2)  # x_d[n] işaretinin indis dizisi# x_d[n] işaretinin fourier transformu\n",
    "\n",
    "w_d = np.arange(-np.pi, np.pi, 2*np.pi/N_d)  # omega ekseninin -pi ile +pi arasında tanımlanması\n",
    "xw_d = np.fft.fftshift(np.fft.fft(xn_d,N_d)/N_d)  # ayrık zamanlı işaretin Fourier transformu"
   ]
  },
  {
   "cell_type": "markdown",
   "metadata": {},
   "source": [
    "# 9 - Sık örnekleme "
   ]
  },
  {
   "cell_type": "markdown",
   "metadata": {},
   "source": [
    "#### Sık örneklemenin zaman domaininde incelenmesi"
   ]
  },
  {
   "cell_type": "code",
   "execution_count": 61,
   "metadata": {},
   "outputs": [],
   "source": [
    "Fs=1200# örnekleme frekansının tanımlanması\n",
    "Ts=1/Fs# örnekleme periyodunun tanımlanması\n",
    "N=12# örnek sayısının tanımlanması\n",
    "n=np.arange(0,N)  # Bir periyot için örnekleme indisinin array olarak tanımlanması\n",
    "xn=5*np.cos(200*np.pi*n*Ts)"
   ]
  },
  {
   "cell_type": "code",
   "execution_count": 62,
   "metadata": {},
   "outputs": [],
   "source": [
    "L = 2                       # L : Sık örnekleme Katsayısı\n",
    "Nn_u = N*L                  # up sample yapılmış işaret için indis array inin oluşturulması\n",
    "xn_u = np.zeros(Nn_u)       # 0'lar ile dolu bir dizi oluşturulması \n",
    "xn_u[::L] = xn              # 0 ile dolu dizinin üzerine L aralıklarla x[n] değerlerinin atanması\n",
    "\n",
    "n_u = np.arange(0, Nn_u)    # indis dizisi"
   ]
  },
  {
   "cell_type": "markdown",
   "metadata": {},
   "source": [
    "#### Sık örneklemenin frekans domaininde incelenmesi"
   ]
  },
  {
   "cell_type": "code",
   "execution_count": 63,
   "metadata": {},
   "outputs": [],
   "source": [
    "L=2# Sık örnekleme (up sampling) oranı\n",
    "N_u=N*L# sık örnekleme sonucu elde edilecek dizinin toplam örnek miktarı\n",
    "xn_u=np.zeros(N_u)     # Başlangıçta N*L elemanlı 0 dizisinin oluşturulması \n",
    "xn_u[::L] =xn# oluşturulan 0 elemanlı dizide her L katı elemana x[n] elemanlarının sırasıyla atanması\n",
    "n_u=np.arange(-N_u/2, N_u/2)  # sık örneklenmiş işaretin indis dizisi\n",
    "\n",
    "# x_u[n] işaretinin fourier transformu\n",
    "w_u=np.arange(-(np.pi), (np.pi), 2*(np.pi)/N_u)  # omega ekseninin -pi ile +pi arasında tanımlanması\n",
    "xw_u=np.fft.fftshift(np.fft.fft(xn_u, N_u)/N_u)"
   ]
  },
  {
   "cell_type": "markdown",
   "metadata": {},
   "source": [
    "# 10 - Alçak geçiren filtreden geçirme "
   ]
  },
  {
   "cell_type": "markdown",
   "metadata": {},
   "source": [
    "İşaretin filtreleme sonrasında enerjisinin aynı kalması için AGF'nin kazancı L kadardır. Kesim frekansı ise pi/L'dir. Buradaki AGF işlemi zaman domaininde işaretin ara değerlemesinin yani interpolasyon işleminin yapılmasına karşılık gelmektedir."
   ]
  },
  {
   "cell_type": "code",
   "execution_count": null,
   "metadata": {},
   "outputs": [],
   "source": [
    "# AGF'nin frekans cevabının oluşturulması\n",
    "hw = np.zeros(N_u)      # H(w) ile X_u(w) noktasal çarpılacağı için uygun boyutta başlangıçta sıfır \n",
    "# vektörü oluşturulur\n",
    "\n",
    "w_i=np.arange(-(np.pi), (np.pi), 2*(np.pi)/N_u)  # açısal frekans olan w değerlerinin oluşturulması\n",
    "indis=np.where(abs(w_i)<=np.pi/2)   # Kesim frekansı (W_c) pi/2 olan filtrenin pi/2'den küçük \n",
    "# frekanslarının indis değerlerinin bulunması\n",
    "\n",
    "hw[indis]=L# bulunan indis değerlerine Filtre kazancına göre değer atanması\n",
    "\n",
    "xw_i = xw_u * hw# X_i(w) işaretinin elde edilmesiN_i=len(xw_i)\n",
    "N_i=len(xw_i)"
   ]
  }
 ],
 "metadata": {
  "kernelspec": {
   "display_name": "Python 3",
   "language": "python",
   "name": "python3"
  },
  "language_info": {
   "codemirror_mode": {
    "name": "ipython",
    "version": 3
   },
   "file_extension": ".py",
   "mimetype": "text/x-python",
   "name": "python",
   "nbconvert_exporter": "python",
   "pygments_lexer": "ipython3",
   "version": "3.7.3"
  }
 },
 "nbformat": 4,
 "nbformat_minor": 2
}
