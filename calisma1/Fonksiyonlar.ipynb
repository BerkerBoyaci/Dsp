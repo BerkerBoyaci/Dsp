{
 "cells": [
  {
   "cell_type": "code",
   "execution_count": 1,
   "metadata": {},
   "outputs": [],
   "source": [
    "def getShiftedArr(xn , N):\n",
    "    x_shifted=np.append(np.zeros(N),x[:-N])    \n",
    "    return x_shifted"
   ]
  },
  {
   "cell_type": "code",
   "execution_count": 2,
   "metadata": {},
   "outputs": [],
   "source": [
    "def getFFT(xn , N):\n",
    "    w = np.arange(-np.pi, np.pi, 2*np.pi/N) \n",
    "    xw = np.fft.fftshift(np.fft.fft(xn,N)/N)\n",
    "    \n",
    "    return (xw , w)"
   ]
  },
  {
   "cell_type": "code",
   "execution_count": 3,
   "metadata": {},
   "outputs": [],
   "source": [
    "def getUpsampling(xn , L , N):\n",
    "    N_u = N * L\n",
    "    xn_u = np.zeros(N_u)\n",
    "\n",
    "    xn_u[::L] = xn\n",
    "    n_u = np.arange(0, N_u)\n",
    "    \n",
    "    return( xn_u , n_u , N_u)\n"
   ]
  },
  {
   "cell_type": "code",
   "execution_count": 16,
   "metadata": {},
   "outputs": [],
   "source": [
    "def getDownSampling(xn , M , N):\n",
    "    xn_d = xn[::M] \n",
    "    Nn_d = len(xn_d)\n",
    "    n_d = np.arange(0,Nn_d)\n",
    "\n",
    "    \n",
    "    return( xn_d , n_d , Nn_d)"
   ]
  },
  {
   "cell_type": "code",
   "execution_count": 8,
   "metadata": {},
   "outputs": [],
   "source": [
    "def getInter(xn_u , h_lin):\n",
    "    xn_i = np.convolve( xn_u , h_lin , 'same')\n",
    "    N_i = len(xn_i)\n",
    "    n_i = np.arange(N_i)\n",
    "    \n",
    "    return ( xn_i, n_i)"
   ]
  },
  {
   "cell_type": "code",
   "execution_count": null,
   "metadata": {},
   "outputs": [],
   "source": [
    "def quantize(x, S):\n",
    "    X = x.reshape((-1,1))\n",
    "    S = S.reshape((1,-1))\n",
    "    dists = abs(X-S)\n",
    "    \n",
    "    nearestIndex = dists.argmin(axis=1)\n",
    "    quantized = S.flat[nearestIndex]\n",
    "    \n",
    "    return quantized.reshape(x.shape)"
   ]
  },
  {
   "cell_type": "code",
   "execution_count": 9,
   "metadata": {},
   "outputs": [],
   "source": [
    "def getPlot(xn , n , ylabel = 'x[n]' , xlabel = 'n' , title = 'Output'):\n",
    "    plt.figure()\n",
    "    plt.stem(n, xn , use_line_collection='True')\n",
    "    plt.ylabel(ylabel)\n",
    "    plt.xlabel(xlabel)\n",
    "    plt.title(title)"
   ]
  },
  {
   "cell_type": "code",
   "execution_count": null,
   "metadata": {},
   "outputs": [],
   "source": []
  }
 ],
 "metadata": {
  "kernelspec": {
   "display_name": "Python 3",
   "language": "python",
   "name": "python3"
  },
  "language_info": {
   "codemirror_mode": {
    "name": "ipython",
    "version": 3
   },
   "file_extension": ".py",
   "mimetype": "text/x-python",
   "name": "python",
   "nbconvert_exporter": "python",
   "pygments_lexer": "ipython3",
   "version": "3.7.3"
  }
 },
 "nbformat": 4,
 "nbformat_minor": 2
}
